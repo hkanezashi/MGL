{
 "cells": [
  {
   "cell_type": "code",
   "execution_count": null,
   "metadata": {},
   "outputs": [],
   "source": [
    "import os\n",
    "import pandas as pd\n",
    "import matplotlib.pyplot as plt\n",
    "\n",
    "DATA_DIR = os.path.join(\"dataset\", \"book_crossing\")"
   ]
  },
  {
   "cell_type": "code",
   "execution_count": null,
   "metadata": {},
   "outputs": [],
   "source": [
    "train_edge_pkl = os.path.join(DATA_DIR, \"interact_train.pkl\")\n",
    "test_edge_pkl = os.path.join(DATA_DIR, \"interact_test.pkl\")\n",
    "\n",
    "train_edge_df = pd.read_pickle(train_edge_pkl)\n",
    "test_edge_df = pd.read_pickle(test_edge_pkl)\n",
    "\n",
    "print(train_edge_df.shape, test_edge_df.shape)\n",
    "display(train_edge_df.head())\n",
    "display(test_edge_df.head())"
   ]
  },
  {
   "cell_type": "code",
   "execution_count": null,
   "metadata": {},
   "outputs": [],
   "source": [
    "def plot_item_degree_dist(edge_df):\n",
    "    item_degree = edge_df[\"itemid\"].value_counts()\n",
    "    degree_distribution = item_degree.value_counts().sort_index()\n",
    "\n",
    "    plt.figure(figsize=(10, 6))\n",
    "    plt.loglog(degree_distribution.index, degree_distribution.values, marker='o')\n",
    "    plt.xlabel('Degree')\n",
    "    plt.ylabel('Number of Items')\n",
    "    plt.title('Item Degree Distribution')\n",
    "    plt.grid(True)\n",
    "    plt.show()\n",
    "\n",
    "plot_item_degree_dist(train_edge_df)"
   ]
  },
  {
   "cell_type": "code",
   "execution_count": null,
   "metadata": {},
   "outputs": [],
   "source": [
    "all_edge_df = pd.concat([train_edge_df, test_edge_df], ignore_index=True)\n",
    "plot_item_degree_dist(all_edge_df)"
   ]
  },
  {
   "cell_type": "code",
   "execution_count": null,
   "metadata": {},
   "outputs": [],
   "source": [
    "item_feat_pkl = os.path.join(DATA_DIR, \"item_feature.pkl\")\n",
    "item_feat_df = pd.read_pickle(item_feat_pkl)\n",
    "\n",
    "print(item_feat_df.shape)\n",
    "item_feat_df.head()"
   ]
  },
  {
   "cell_type": "code",
   "execution_count": null,
   "metadata": {},
   "outputs": [],
   "source": [
    "enc_item_feat_pkl = os.path.join(DATA_DIR, \"encoded_item_feature.pkl\")\n",
    "enc_item_feat_df = pd.read_pickle(enc_item_feat_pkl)\n",
    "\n",
    "print(enc_item_feat_df.shape)\n",
    "enc_item_feat_df.head()"
   ]
  },
  {
   "cell_type": "code",
   "execution_count": null,
   "metadata": {},
   "outputs": [],
   "source": [
    "user_map_csv = os.path.join(DATA_DIR, \"user_encoder_map.csv\")\n",
    "user_map_df = pd.read_csv(user_map_csv)\n",
    "\n",
    "print(user_map_df.shape)\n",
    "user_map_df.head()"
   ]
  },
  {
   "cell_type": "code",
   "execution_count": null,
   "metadata": {},
   "outputs": [],
   "source": [
    "item_map_csv = os.path.join(DATA_DIR, \"item_encoder_map.csv\")\n",
    "item_map_df = pd.read_csv(item_map_csv)\n",
    "\n",
    "print(item_map_df.shape)\n",
    "item_map_df.head()"
   ]
  },
  {
   "cell_type": "code",
   "execution_count": null,
   "metadata": {},
   "outputs": [],
   "source": [
    "item_ids_feat = set(item_feat_df[\"item\"].tolist())\n",
    "item_ids_enc = set(enc_item_feat_df[\"item\"].tolist())\n",
    "item_ids_map = set(item_map_df[\"item\"].tolist())\n",
    "\n",
    "print(len(item_ids_feat), len(item_ids_enc), len(item_ids_map))\n",
    "print(len(item_ids_feat & item_ids_enc))"
   ]
  },
  {
   "cell_type": "code",
   "execution_count": null,
   "metadata": {},
   "outputs": [],
   "source": [
    "enc_item_feat_df.dtypes"
   ]
  },
  {
   "cell_type": "code",
   "execution_count": null,
   "metadata": {},
   "outputs": [],
   "source": [
    "enc_item_feat_df.head(10)"
   ]
  }
 ],
 "metadata": {
  "kernelspec": {
   "display_name": "venv",
   "language": "python",
   "name": "python3"
  },
  "language_info": {
   "codemirror_mode": {
    "name": "ipython",
    "version": 3
   },
   "file_extension": ".py",
   "mimetype": "text/x-python",
   "name": "python",
   "nbconvert_exporter": "python",
   "pygments_lexer": "ipython3",
   "version": "3.11.6"
  }
 },
 "nbformat": 4,
 "nbformat_minor": 2
}
