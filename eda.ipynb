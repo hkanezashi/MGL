{
 "cells": [
  {
   "cell_type": "code",
   "execution_count": null,
   "metadata": {},
   "outputs": [],
   "source": [
    "import os\n",
    "import pandas as pd\n",
    "\n",
    "DATA_DIR = os.path.join(\"dataset\", \"book_crossing\")"
   ]
  },
  {
   "cell_type": "code",
   "execution_count": null,
   "metadata": {},
   "outputs": [],
   "source": [
    "train_edge_pkl = os.path.join(DATA_DIR, \"interact_train.pkl\")\n",
    "test_edge_pkl = os.path.join(DATA_DIR, \"interact_test.pkl\")\n",
    "\n",
    "train_edge_df = pd.read_pickle(train_edge_pkl)\n",
    "test_edge_df = pd.read_pickle(test_edge_pkl)\n",
    "\n",
    "print(train_edge_df.shape, test_edge_df.shape)\n",
    "display(train_edge_df.head())\n",
    "display(test_edge_df.head())"
   ]
  },
  {
   "cell_type": "code",
   "execution_count": null,
   "metadata": {},
   "outputs": [],
   "source": [
    "item_feat_pkl = os.path.join(DATA_DIR, \"item_feature.pkl\")\n",
    "item_feat_df = pd.read_pickle(item_feat_pkl)\n",
    "\n",
    "print(item_feat_df.shape)\n",
    "item_feat_df.head()"
   ]
  },
  {
   "cell_type": "code",
   "execution_count": null,
   "metadata": {},
   "outputs": [],
   "source": [
    "enc_item_feat_pkl = os.path.join(DATA_DIR, \"encoded_item_feature.pkl\")\n",
    "enc_item_feat_df = pd.read_pickle(enc_item_feat_pkl)\n",
    "\n",
    "print(enc_item_feat_df.shape)\n",
    "enc_item_feat_df.head()"
   ]
  },
  {
   "cell_type": "code",
   "execution_count": null,
   "metadata": {},
   "outputs": [],
   "source": [
    "user_map_csv = os.path.join(DATA_DIR, \"user_encoder_map.csv\")\n",
    "user_map_df = pd.read_csv(user_map_csv)\n",
    "\n",
    "print(user_map_df.shape)\n",
    "user_map_df.head()"
   ]
  },
  {
   "cell_type": "code",
   "execution_count": null,
   "metadata": {},
   "outputs": [],
   "source": [
    "item_map_csv = os.path.join(DATA_DIR, \"item_encoder_map.csv\")\n",
    "item_map_df = pd.read_csv(item_map_csv)\n",
    "\n",
    "print(item_map_df.shape)\n",
    "item_map_df.head()"
   ]
  },
  {
   "cell_type": "code",
   "execution_count": null,
   "metadata": {},
   "outputs": [],
   "source": [
    "item_ids_feat = set(item_feat_df[\"item\"].tolist())\n",
    "item_ids_enc = set(enc_item_feat_df[\"item\"].tolist())\n",
    "item_ids_map = set(item_map_df[\"item\"].tolist())\n",
    "\n",
    "print(len(item_ids_feat), len(item_ids_enc), len(item_ids_map))\n",
    "print(len(item_ids_feat & item_ids_enc))"
   ]
  },
  {
   "cell_type": "code",
   "execution_count": null,
   "metadata": {},
   "outputs": [],
   "source": [
    "enc_item_feat_df.dtypes"
   ]
  },
  {
   "cell_type": "code",
   "execution_count": null,
   "metadata": {},
   "outputs": [],
   "source": [
    "enc_item_feat_df.head(10)"
   ]
  },
  {
   "cell_type": "code",
   "execution_count": null,
   "metadata": {},
   "outputs": [],
   "source": [
    "enc_item_feat_df.fillna({\"title\": \"unknown\", \"Book-Author\": \"unknown\", \"Year-Of-Publication\": \"0\", \"Publisher\": \"unknown\"}, inplace=True)\n",
    "enc_item_feat_df.head(10)"
   ]
  },
  {
   "cell_type": "code",
   "execution_count": null,
   "metadata": {},
   "outputs": [],
   "source": [
    "enc_item_feat_df.to_pickle(enc_item_feat_pkl)"
   ]
  },
  {
   "cell_type": "code",
   "execution_count": null,
   "metadata": {},
   "outputs": [],
   "source": [
    "item_ids = [3994, 2257, 2033, 2206,  705, 1680,  141, 5591, 1320, 4395, 5291, 3206,\n",
    "        2124, 4966, 4831,  281, 1574, 4777, 2185, 5890, 1467, 3201, 1973, 1417,\n",
    "        4500, 4147, 3453, 4524,  412,  949, 2075, 4141, 2410, 5556, 3228,  226,\n",
    "        6103, 2577,  976, 5085, 2173, 3961, 1932, 3001, 5283, 1021, 3087, 2593,\n",
    "        2981, 2016, 2358, 4744, 1127, 3576, 5985, 1466, 1197, 4137, 2652, 4028,\n",
    "        4684, 3466,  997, 4542, 2663, 1941, 3289, 3893,  385, 2946, 2950, 3700,\n",
    "        1079, 2212, 5417, 4294, 4948,  779, 5693,  220, 4908, 2677, 2702, 2633,\n",
    "        5206,  482,  137,   86, 4557, 1048, 1086, 4030, 3596, 4770, 2264,  474,\n",
    "        5634, 1256, 5976, 1961,  346, 5352, 4230, 4322, 2582, 2243, 2197, 5176,\n",
    "         398, 1695, 3059, 3967, 4305, 3361, 1912, 5603, 3219, 5657, 1869, 5836,\n",
    "        2447, 5209, 3613, 4425, 4980, 6053, 2039, 5232]\n",
    "\n",
    "sub_df = enc_item_feat_df[enc_item_feat_df[\"encoded\"].isin(item_ids)]\n",
    "sub_df"
   ]
  },
  {
   "cell_type": "code",
   "execution_count": null,
   "metadata": {},
   "outputs": [],
   "source": [
    "sub_df[\"title\"].isna().any()"
   ]
  },
  {
   "cell_type": "code",
   "execution_count": null,
   "metadata": {},
   "outputs": [],
   "source": [
    "item_ids = [3994, 2257, 2033, 2206,  705, 1680,  141, 5591, 1320, 4395, 5291, 3206,\n",
    "        2124, 4966, 4831,  281, 1574, 4777, 2185, 5890, 1467, 3201, 1973, 1417,\n",
    "        4500, 4147, 3453, 4524,  412,  949, 2075, 4141, 2410, 5556, 3228,  226,\n",
    "        6103, 2577,  976, 5085, 2173, 3961, 1932, 3001, 5283, 1021, 3087, 2593,\n",
    "        2981, 2016, 2358, 4744, 1127, 3576, 5985, 1466, 1197, 4137, 2652, 4028,\n",
    "        4684, 3466,  997, 4542, 2663, 1941, 3289, 3893,  385, 2946, 2950, 3700,\n",
    "        1079, 2212, 5417, 4294, 4948,  779, 5693,  220, 4908, 2677, 2702, 2633,\n",
    "        5206,  482,  137,   86, 4557, 1048, 1086, 4030, 3596, 4770, 2264,  474,\n",
    "        5634, 1256, 5976, 1961,  346, 5352, 4230, 4322, 2582, 2243, 2197, 5176,\n",
    "         398, 1695, 3059, 3967, 4305, 3361, 1912, 5603, 3219, 5657, 1869, 5836,\n",
    "        2447, 5209, 3613, 4425, 4980, 6053, 2039, 5232]\n",
    "len(item_ids)"
   ]
  },
  {
   "cell_type": "code",
   "execution_count": null,
   "metadata": {},
   "outputs": [],
   "source": [
    "item_ids[45]"
   ]
  },
  {
   "cell_type": "code",
   "execution_count": null,
   "metadata": {},
   "outputs": [],
   "source": [
    "enc_item_feat_df[enc_item_feat_df[\"encoded\"] == 1021]"
   ]
  },
  {
   "cell_type": "code",
   "execution_count": null,
   "metadata": {},
   "outputs": [],
   "source": [
    "enc_item_feat_df[enc_item_feat_df[\"encoded\"] == 2404]"
   ]
  },
  {
   "cell_type": "code",
   "execution_count": null,
   "metadata": {},
   "outputs": [],
   "source": [
    "enc_item_feat_df[enc_item_feat_df[\"encoded\"].isin([1002, 2936, 991, 3037])]"
   ]
  }
 ],
 "metadata": {
  "kernelspec": {
   "display_name": "venv",
   "language": "python",
   "name": "python3"
  },
  "language_info": {
   "codemirror_mode": {
    "name": "ipython",
    "version": 3
   },
   "file_extension": ".py",
   "mimetype": "text/x-python",
   "name": "python",
   "nbconvert_exporter": "python",
   "pygments_lexer": "ipython3",
   "version": "3.11.6"
  }
 },
 "nbformat": 4,
 "nbformat_minor": 2
}
